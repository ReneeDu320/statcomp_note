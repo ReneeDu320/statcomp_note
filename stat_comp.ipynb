{
 "cells": [
  {
   "cell_type": "markdown",
   "metadata": {},
   "source": [
    "## Build R package with R_studio"
   ]
  },
  {
   "cell_type": "markdown",
   "metadata": {},
   "source": [
    "### simple build"
   ]
  },
  {
   "cell_type": "code",
   "execution_count": null,
   "metadata": {},
   "outputs": [],
   "source": [
    "library(usethis)\n",
    "create_package(\"foo\", roxygen=FALSE)"
   ]
  },
  {
   "cell_type": "markdown",
   "metadata": {},
   "source": [
    "This will make a directory called foo in you current working directory, and will then will open a new Rstudio instance where the working directory to foo. For now, we set Roxygen equal to FALSE since we have not covered Roxygen yet. This option allows for automatic exporting of functions to the namespace when FALSE. If set to TRUE (default), the function assumes you will be using Roxygen to document functions and will export functions in accordance to your Roxygen documention, leaving the NAMESPACE file blank upon creation.\n",
    "\n",
    "In your current working directory, we can print the contents of the foo directory\n",
    "\n",
    "{r. eval = F} list.files(\"foo\")"
   ]
  },
  {
   "cell_type": "markdown",
   "metadata": {},
   "source": [
    "[1] \"DESCRIPTION\" \"foo.Rproj\"   \"NAMESPACE\"   \"R\""
   ]
  },
  {
   "cell_type": "markdown",
   "metadata": {},
   "source": [
    "wrap the R package using:"
   ]
  },
  {
   "cell_type": "code",
   "execution_count": null,
   "metadata": {},
   "outputs": [],
   "source": [
    "library(devtools)\n",
    "build(\"foo\")"
   ]
  },
  {
   "cell_type": "markdown",
   "metadata": {},
   "source": [
    "or in command line using:"
   ]
  },
  {
   "cell_type": "code",
   "execution_count": null,
   "metadata": {},
   "outputs": [],
   "source": [
    "R CMD build foo"
   ]
  },
  {
   "cell_type": "markdown",
   "metadata": {},
   "source": [
    "Now if we want to share our function add with a collaborator, we can send them the file foo_0.0.1.tar.gz"
   ]
  },
  {
   "cell_type": "markdown",
   "metadata": {},
   "source": [
    "### change version number"
   ]
  },
  {
   "cell_type": "markdown",
   "metadata": {},
   "source": []
  },
  {
   "cell_type": "markdown",
   "metadata": {},
   "source": [
    "The most important thing about version numbers is that they are free. You should “bump” the version number any time you make a change that you will push out the world (e.g. anytime you push your changes to GitHub or other repository). Even if you are working entirely by yourself, it is useful to be able to pinpoint differences in code output based on the version string (which will appear if you append the session information to the output of every script or Rmarkdown file you run).\n",
    "\n",
    "There are three parts to most R package version numbers:\n",
    "\n",
    "x.y.z\n",
    "\n",
    "Roughly:\n",
    "\n",
    "The “x” part is for major releases\n",
    "\n",
    "The “y” part is for minor releases\n",
    "\n",
    "The “z” part is for any change to the package\n"
   ]
  },
  {
   "cell_type": "markdown",
   "metadata": {},
   "source": [
    "check current package version:"
   ]
  },
  {
   "cell_type": "code",
   "execution_count": null,
   "metadata": {},
   "outputs": [],
   "source": [
    "packageVersion(\"stats\")"
   ]
  },
  {
   "cell_type": "markdown",
   "metadata": {},
   "source": [
    "For an R package, if you need a specific version of another package, you should include a string in parentheses after its name in the Depends, Imports or Suggests field, for example:"
   ]
  },
  {
   "cell_type": "code",
   "execution_count": null,
   "metadata": {},
   "outputs": [],
   "source": [
    "Imports: foo (>= 1.2.0)"
   ]
  },
  {
   "cell_type": "markdown",
   "metadata": {},
   "source": [
    "### loading and sharing package"
   ]
  },
  {
   "cell_type": "markdown",
   "metadata": {},
   "source": [
    "after building the package:   \n",
    "run:   \n",
    "install.packages(\"foo_0.0.1.tar.gz\", repos=NULL)  "
   ]
  },
  {
   "cell_type": "markdown",
   "metadata": {},
   "source": [
    "You may need to restart your R session, or try this is another R session if you already have loaded the foo package in certain versions of R. Another easy way to share your package is to put all of the files into a GitHub repository. Then others can install the package on their machines simply with install_github(\"username/foo\") using the devtools package. Again, this requires a library(foo) call afterward to load the package."
   ]
  },
  {
   "cell_type": "markdown",
   "metadata": {},
   "source": [
    "### add .rd "
   ]
  },
  {
   "cell_type": "code",
   "execution_count": null,
   "metadata": {},
   "outputs": [],
   "source": [
    "#' Sum of two vectors of numbers\n",
    "#' \n",
    "#' This function sums two vectors of numbers and optionally\n",
    "#' allows for the negative of the sum to be returned.\n",
    "#' \n",
    "#' @param x a vector of numbers\n",
    "#' @param y a vector of numbers\n",
    "#' @param negative logical, whether to flip the sign of the sum\n",
    "#'\n",
    "#' @return the sum of the two vectors\n",
    "#' \n",
    "#' @examples\n",
    "#'\n",
    "#' add(1:5, 6:10)\n",
    "#' add(1:5, 6:10, negative=TRUE)\n",
    "#'\n",
    "#' @importFrom gtools rdirichlet\n",
    "#' \n",
    "#' @export\n",
    "add <- function(x,y,negative=FALSE) {\n",
    "  d <- gtools::rdirichlet(1, alpha=c(1,2,3))\n",
    "  z <- x + y\n",
    "  if (negative) {\n",
    "    z <- -1 * z\n",
    "  }\n",
    "  z\n",
    "}"
   ]
  },
  {
   "cell_type": "markdown",
   "metadata": {},
   "source": [
    "above is an example, update the r file with the above content\n",
    "\n",
    "then run:\n",
    "\n",
    "load_all()\n",
    "\n",
    "document() (document() will automatically create a .rd file in /man)\n",
    "\n",
    "the above command should run under the current working directory\n"
   ]
  },
  {
   "cell_type": "markdown",
   "metadata": {},
   "source": [
    "### add test"
   ]
  },
  {
   "cell_type": "code",
   "execution_count": null,
   "metadata": {},
   "outputs": [],
   "source": [
    "use_test(\"add\")"
   ]
  },
  {
   "cell_type": "markdown",
   "metadata": {},
   "source": [
    "This will create a directory called tests/testthat in the root of your R package directory, add testthat to your Suggests: line in the DESCRIPTION file, create a file tests/testthat.R that will run all the tests in tests/testthat when you run R’s package check, and create a file tests/testthat/test-name.R. You may have multiple groups of tests that you want to separate into different files, so you can choose “name” however you like, e.g. test-data-input.R, test-normalization.R, etc. However, you can also put all your tests into a single file for the package, e.g. test-foo.R.\n",
    "\n"
   ]
  },
  {
   "cell_type": "markdown",
   "metadata": {},
   "source": [
    "examples we can put into the test-add.R file:"
   ]
  },
  {
   "cell_type": "code",
   "execution_count": null,
   "metadata": {},
   "outputs": [],
   "source": [
    "context(\"test-add\")\n",
    "test_that(\"add works on two vectors\", {\n",
    "\n",
    "  expect_equal(add(1:5,6:10), c(7,9,11,13,15))\n",
    "\n",
    "})\n",
    "\n",
    "test_that(\"simple errors for bad input\", {\n",
    "\n",
    "  expect_error(add())\n",
    "  expect_error(add(1:5))\n",
    "  expect_error(add(1:5,6:10,\"yes\"))\n",
    "\n",
    "})\n"
   ]
  }
 ],
 "metadata": {
  "language_info": {
   "name": "python"
  },
  "orig_nbformat": 4
 },
 "nbformat": 4,
 "nbformat_minor": 2
}
